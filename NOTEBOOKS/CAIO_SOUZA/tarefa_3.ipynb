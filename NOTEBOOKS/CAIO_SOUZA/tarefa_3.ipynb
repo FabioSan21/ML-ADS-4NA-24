{
  "cells": [
    {
      "cell_type": "code",
      "source": [
        "import pandas as pd\n",
        "\n",
        "# URL do dataset Wine\n",
        "url = 'https://archive.ics.uci.edu/ml/machine-learning-databases/wine/wine.data'\n",
        "\n",
        "# Nome das colunas em português BR\n",
        "column_names_pt_br = [\n",
        "    'classe',\n",
        "    'alcool',\n",
        "    'acido_malico',\n",
        "    'cinzas',\n",
        "    'alcalinidade_de_cinzas',\n",
        "    'magnesio',\n",
        "    'fenois_totais',\n",
        "    'flavanoides',\n",
        "    'fenois_nao_flavanoides',\n",
        "    'proantocianinas',\n",
        "    'intensidade_de_cor',\n",
        "    'matiz',\n",
        "    'od280_od315_de_vinhos_diluidos',\n",
        "    'prolina'\n",
        "]\n",
        "\n",
        "# Ler o arquivo CSV com as colunas especificadas, definindo a coluna 'classe' como object\n",
        "vinhos = pd.read_csv(url, names=column_names_pt_br, dtype={'classe': object})"
      ],
      "metadata": {
        "id": "f55uo_lzrQzu"
      },
      "execution_count": null,
      "outputs": []
    },
    {
      "cell_type": "code",
      "source": [
        "from sklearn.model_selection import train_test_split\n",
        "\n",
        "# Separando as variáveis independentes (X) e dependente (y)\n",
        "X = vinhos.drop(columns=['classe'])  # Variáveis preditoras\n",
        "y = vinhos['classe']  # Variável alvo\n",
        "\n",
        "# Dividindo os dados em treino (70%) e teste (30%)\n",
        "X_train, X_test, y_train, y_test = train_test_split(X, y, test_size=0.3, random_state=42)\n",
        "\n",
        "# Exibindo os tamanhos dos conjuntos\n",
        "print(\"Tamanho do conjunto de treino:\", len(X_train))\n",
        "print(\"Tamanho do conjunto de teste:\", len(X_test))\n",
        "print(\"Tamanho do conjunto de treino (alvo):\", len(y_train))\n",
        "print(\"Tamanho do conjunto de teste (alvo):\", len(y_test))"
      ],
      "metadata": {
        "id": "Ql9KJ6WTtBpq",
        "outputId": "7ac8ce8e-cd96-473d-a0de-8cb118162fc7",
        "colab": {
          "base_uri": "https://localhost:8080/"
        }
      },
      "execution_count": null,
      "outputs": [
        {
          "output_type": "stream",
          "name": "stdout",
          "text": [
            "Tamanho do conjunto de treino: 124\n",
            "Tamanho do conjunto de teste: 54\n",
            "Tamanho do conjunto de treino (alvo): 124\n",
            "Tamanho do conjunto de teste (alvo): 54\n"
          ]
        }
      ]
    },
    {
      "cell_type": "code",
      "source": [
        "from sklearn.neighbors import KNeighborsClassifier\n",
        "from sklearn.metrics import accuracy_score\n",
        "from sklearn.model_selection import train_test_split\n",
        "\n",
        "# Separando as variáveis independentes (X) e dependente (y)\n",
        "X = vinhos.drop(columns=['classe'])  # Variáveis preditoras\n",
        "y = vinhos['classe']  # Variável alvo\n",
        "\n",
        "# Dividindo os dados em treino (70%) e teste (30%)\n",
        "X_train, X_test, y_train, y_test = train_test_split(X, y, test_size=0.3, random_state=42)\n",
        "\n",
        "# Treinando o modelo com k = 3\n",
        "knn_3 = KNeighborsClassifier(n_neighbors=3)\n",
        "knn_3.fit(X_train, y_train)\n",
        "y_pred_3 = knn_3.predict(X_test)\n",
        "accuracy_3 = accuracy_score(y_test, y_pred_3)\n",
        "print(f\"Acurácia com k=3: {accuracy_3:.2f}\")\n",
        "\n",
        "# Treinando o modelo com k = 5\n",
        "knn_5 = KNeighborsClassifier(n_neighbors=5)\n",
        "knn_5.fit(X_train, y_train)\n",
        "y_pred_5 = knn_5.predict(X_test)\n",
        "accuracy_5 = accuracy_score(y_test, y_pred_5)\n",
        "print(f\"Acurácia com k=5: {accuracy_5:.2f}\")\n",
        "\n",
        "# Comparação dos modelos\n",
        "melhor_k = 3 if accuracy_3 > accuracy_5 else 5\n",
        "print(f\"O modelo com k={melhor_k} apresenta melhor desempenho.\")"
      ],
      "metadata": {
        "id": "UAFPde6otQmw",
        "outputId": "27eeff3c-a376-43d9-c9f0-6d9201307204",
        "colab": {
          "base_uri": "https://localhost:8080/"
        }
      },
      "execution_count": null,
      "outputs": [
        {
          "output_type": "stream",
          "name": "stdout",
          "text": [
            "Acurácia com k=3: 0.74\n",
            "Acurácia com k=5: 0.74\n",
            "O modelo com k=5 apresenta melhor desempenho.\n"
          ]
        }
      ]
    },
    {
      "cell_type": "code",
      "source": [
        "from sklearn.neighbors import KNeighborsClassifier\n",
        "from sklearn.metrics import accuracy_score\n",
        "from sklearn.model_selection import train_test_split\n",
        "\n",
        "# Função para realizar a análise\n",
        "def avaliar_knn_com_random_state(random_state):\n",
        "    # Dividindo os dados em treino e teste com o random_state fornecido\n",
        "    X_train, X_test, y_train, y_test = train_test_split(X, y, test_size=0.3, random_state=random_state)\n",
        "\n",
        "    # Treinando e avaliando o modelo com k = 3\n",
        "    knn_3 = KNeighborsClassifier(n_neighbors=3)\n",
        "    knn_3.fit(X_train, y_train)\n",
        "    y_pred_3 = knn_3.predict(X_test)\n",
        "    accuracy_3 = accuracy_score(y_test, y_pred_3)\n",
        "\n",
        "    # Treinando e avaliando o modelo com k = 5\n",
        "    knn_5 = KNeighborsClassifier(n_neighbors=5)\n",
        "    knn_5.fit(X_train, y_train)\n",
        "    y_pred_5 = knn_5.predict(X_test)\n",
        "    accuracy_5 = accuracy_score(y_test, y_pred_5)\n",
        "\n",
        "    # Apresentando os resultados\n",
        "    print(f\"Random State: {random_state}\")\n",
        "    print(f\"Acurácia com k=3: {accuracy_3:.2f}\")\n",
        "    print(f\"Acurácia com k=5: {accuracy_5:.2f}\")\n",
        "    print(\"-\" * 30)\n",
        "    return accuracy_3, accuracy_5\n",
        "\n",
        "# Valores de random_state para análise\n",
        "random_states = [17, 24]\n",
        "\n",
        "# Executando a análise para cada random_state\n",
        "for rs in random_states:\n",
        "    avaliar_knn_com_random_state(rs)\n"
      ],
      "metadata": {
        "id": "Nqtwip3Cteoc",
        "outputId": "78641e3d-ce29-4135-e543-4947d3ef5857",
        "colab": {
          "base_uri": "https://localhost:8080/"
        }
      },
      "execution_count": null,
      "outputs": [
        {
          "output_type": "stream",
          "name": "stdout",
          "text": [
            "Random State: 17\n",
            "Acurácia com k=3: 0.65\n",
            "Acurácia com k=5: 0.67\n",
            "------------------------------\n",
            "Random State: 24\n",
            "Acurácia com k=3: 0.74\n",
            "Acurácia com k=5: 0.67\n",
            "------------------------------\n"
          ]
        }
      ]
    },
    {
      "cell_type": "code",
      "source": [
        "from sklearn.neighbors import KNeighborsClassifier\n",
        "from sklearn.metrics import accuracy_score\n",
        "from sklearn.model_selection import train_test_split\n",
        "\n",
        "# Função para realizar a análise\n",
        "def avaliar_knn_com_random_state(random_state):\n",
        "    # Dividindo os dados em treino e teste com o random_state fornecido\n",
        "    X_train, X_test, y_train, y_test = train_test_split(X, y, test_size=0.3, random_state=random_state)\n",
        "\n",
        "    # Resultados para diferentes valores de k\n",
        "    resultados = []\n",
        "\n",
        "    for k in [3, 5]:\n",
        "        knn = KNeighborsClassifier(n_neighbors=k)\n",
        "        knn.fit(X_train, y_train)\n",
        "        y_pred = knn.predict(X_test)\n",
        "        accuracy = accuracy_score(y_test, y_pred)\n",
        "        resultados.append((random_state, k, accuracy))\n",
        "\n",
        "    return resultados\n",
        "\n",
        "# Valores de random_state para análise\n",
        "random_states = [42, 17, 24]\n",
        "\n",
        "# Coletando os resultados\n",
        "todos_resultados = []\n",
        "for rs in random_states:\n",
        "    todos_resultados.extend(avaliar_knn_com_random_state(rs))\n",
        "\n",
        "# Criando um DataFrame para facilitar a análise\n",
        "import pandas as pd\n",
        "df_resultados = pd.DataFrame(todos_resultados, columns=['Random State', 'k', 'Accuracy'])\n",
        "\n",
        "# Identificando o melhor desempenho geral\n",
        "melhor_configuracao = df_resultados.loc[df_resultados['Accuracy'].idxmax()]\n",
        "\n",
        "# Exibindo a comparação\n",
        "print(\"Resultados Comparativos:\")\n",
        "print(df_resultados)\n",
        "print(\"\\nMelhor Configuração:\")\n",
        "print(melhor_configuracao)\n"
      ],
      "metadata": {
        "id": "66j2_bRXtw-V",
        "outputId": "efdf7cda-9220-479c-b0b0-678303fe98a9",
        "colab": {
          "base_uri": "https://localhost:8080/"
        }
      },
      "execution_count": null,
      "outputs": [
        {
          "output_type": "stream",
          "name": "stdout",
          "text": [
            "Resultados Comparativos:\n",
            "   Random State  k  Accuracy\n",
            "0            42  3  0.740741\n",
            "1            42  5  0.740741\n",
            "2            17  3  0.648148\n",
            "3            17  5  0.666667\n",
            "4            24  3  0.740741\n",
            "5            24  5  0.666667\n",
            "\n",
            "Melhor Configuração:\n",
            "Random State    42.000000\n",
            "k                3.000000\n",
            "Accuracy         0.740741\n",
            "Name: 0, dtype: float64\n"
          ]
        }
      ]
    }
  ],
  "metadata": {
    "colab": {
      "toc_visible": true,
      "provenance": []
    },
    "kernelspec": {
      "display_name": "Python 3",
      "name": "python3"
    }
  },
  "nbformat": 4,
  "nbformat_minor": 0
}