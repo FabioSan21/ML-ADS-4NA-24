{
  "nbformat": 4,
  "nbformat_minor": 0,
  "metadata": {
    "colab": {
      "provenance": []
    },
    "kernelspec": {
      "name": "python3",
      "display_name": "Python 3"
    },
    "language_info": {
      "name": "python"
    }
  },
  "cells": [
    {
      "cell_type": "code",
      "execution_count": 3,
      "metadata": {
        "id": "JQLkvwMOvh_f"
      },
      "outputs": [],
      "source": [
        "import pandas as pd"
      ]
    },
    {
      "cell_type": "code",
      "source": [
        "url = 'https://archive.ics.uci.edu/ml/machine-learning-databases/wine/wine.data'\n",
        "\n",
        "# Nome das colunas em português BR\n",
        "column_names_pt_br = [\n",
        "    'classe',\n",
        "    'alcool',\n",
        "    'acido_malico',\n",
        "    'cinzas',\n",
        "    'alcalinidade_de_cinzas',\n",
        "    'magnesio',\n",
        "    'fenois_totais',\n",
        "    'flavanoides',\n",
        "    'fenois_nao_flavanoides',\n",
        "    'proantocianinas',\n",
        "    'intensidade_de_cor',\n",
        "    'matiz',\n",
        "    'od280_od315_de_vinhos_diluidos',\n",
        "    'prolina'\n",
        "]\n",
        "\n",
        "# Ler o arquivo CSV com as colunas especificadas, definindo a coluna 'classe' como object\n",
        "vinhos = pd.read_csv(url, names=column_names_pt_br, dtype={'classe': object})"
      ],
      "metadata": {
        "id": "wpbPraCx0Ycz"
      },
      "execution_count": 4,
      "outputs": []
    },
    {
      "cell_type": "code",
      "source": [
        "from sklearn.model_selection import train_test_split\n",
        "\n",
        "# Separar as features e a target\n",
        "X = vinhos.iloc[:, 1:]\n",
        "y = vinhos['classe']\n",
        "\n",
        "# Treino (70%) e teste (30%)\n",
        "X_train, X_test, y_train, y_test = train_test_split(X, y, test_size=0.3, random_state=42)\n",
        "\n",
        "# Verificar os tamanhos das divisões\n",
        "print(f\"Tamanho de X_train: {X_train.shape}\")\n",
        "print(f\"Tamanho de X_test: {X_test.shape}\")\n",
        "print(f\"Tamanho de y_train: {y_train.shape}\")\n",
        "print(f\"Tamanho de y_test: {y_test.shape}\")"
      ],
      "metadata": {
        "colab": {
          "base_uri": "https://localhost:8080/"
        },
        "id": "ZAcFSeLBVbvo",
        "outputId": "83db052f-9ebe-4f9a-b63e-90a2228d7692"
      },
      "execution_count": 5,
      "outputs": [
        {
          "output_type": "stream",
          "name": "stdout",
          "text": [
            "Tamanho de X_train: (124, 13)\n",
            "Tamanho de X_test: (54, 13)\n",
            "Tamanho de y_train: (124,)\n",
            "Tamanho de y_test: (54,)\n"
          ]
        }
      ]
    },
    {
      "cell_type": "code",
      "source": [
        "from sklearn.neighbors import KNeighborsClassifier\n",
        "from sklearn.metrics import accuracy_score\n",
        "\n",
        "# Classificador KNN com k=3\n",
        "knn_k3 = KNeighborsClassifier(n_neighbors=3)\n",
        "knn_k3.fit(X_train, y_train)\n",
        "y_pred_k3 = knn_k3.predict(X_test)\n",
        "\n",
        "# Avaliar o modelo\n",
        "accuracy_k3 = accuracy_score(y_test, y_pred_k3)\n",
        "print(f\"Acurácia do KNN com k=3: {accuracy_k3:.2f}\")\n",
        "\n",
        "# Classificador KNN com k=5\n",
        "knn_k5 = KNeighborsClassifier(n_neighbors=5)\n",
        "knn_k5.fit(X_train, y_train)\n",
        "y_pred_k5 = knn_k5.predict(X_test)\n",
        "\n",
        "# Avaliar o modelo\n",
        "accuracy_k5 = accuracy_score(y_test, y_pred_k5)\n",
        "print(f\"Acurácia do KNN com k=5: {accuracy_k5:.2f}\")\n",
        "\n",
        "# Comparar os resultados\n",
        "if accuracy_k3 > accuracy_k5:\n",
        "    print(\"O modelo com k=3 apresenta melhor desempenho.\")\n",
        "elif accuracy_k5 > accuracy_k3:\n",
        "    print(\"O modelo com k=5 apresenta melhor desempenho.\")\n",
        "else:\n",
        "    print(\"Ambos os modelos apresentam o mesmo desempenho.\")"
      ],
      "metadata": {
        "colab": {
          "base_uri": "https://localhost:8080/"
        },
        "id": "d01F56O4VuG4",
        "outputId": "8a317fd2-376b-4a59-b366-dc7ec93afa35"
      },
      "execution_count": 6,
      "outputs": [
        {
          "output_type": "stream",
          "name": "stdout",
          "text": [
            "Acurácia do KNN com k=3: 0.74\n",
            "Acurácia do KNN com k=5: 0.74\n",
            "Ambos os modelos apresentam o mesmo desempenho.\n"
          ]
        }
      ]
    },
    {
      "cell_type": "code",
      "source": [
        "# Valores de random_state\n",
        "random_states = [17, 24]\n",
        "\n",
        "# Dicionário para armazenar os resultados\n",
        "results = {}\n",
        "\n",
        "for state in random_states:\n",
        "    print(f\"\\nRandom State: {state}\")\n",
        "\n",
        "    # Divisão dos dados em treino e teste\n",
        "    X_train, X_test, y_train, y_test = train_test_split(X, y, test_size=0.3, random_state=state)\n",
        "\n",
        "    # KNN com k=3\n",
        "    knn_k3 = KNeighborsClassifier(n_neighbors=3)\n",
        "    knn_k3.fit(X_train, y_train)\n",
        "    y_pred_k3 = knn_k3.predict(X_test)\n",
        "    accuracy_k3 = accuracy_score(y_test, y_pred_k3)\n",
        "    print(f\"Acurácia do KNN com k=3: {accuracy_k3:.2f}\")\n",
        "\n",
        "    # KNN com k=5\n",
        "    knn_k5 = KNeighborsClassifier(n_neighbors=5)\n",
        "    knn_k5.fit(X_train, y_train)\n",
        "    y_pred_k5 = knn_k5.predict(X_test)\n",
        "    accuracy_k5 = accuracy_score(y_test, y_pred_k5)\n",
        "    print(f\"Acurácia do KNN com k=5: {accuracy_k5:.2f}\")\n",
        "\n",
        "    # Armazenar os resultados no dicionário\n",
        "    results[state] = {\n",
        "        \"k=3\": accuracy_k3,\n",
        "        \"k=5\": accuracy_k5\n",
        "    }\n",
        "\n",
        "    # Comparação dos desempenhos\n",
        "    if accuracy_k3 > accuracy_k5:\n",
        "        print(\"O modelo com k=3 apresenta melhor desempenho.\\n\")\n",
        "    elif accuracy_k5 > accuracy_k3:\n",
        "        print(\"O modelo com k=5 apresenta melhor desempenho.\\n\")\n",
        "    else:\n",
        "        print(\"Ambos os modelos apresentam o mesmo desempenho.\\n\")\n",
        "\n",
        "# Exibindo o resumo final dos resultados\n",
        "print(\"\\nResumo Final:\")\n",
        "for state, accuracies in results.items():\n",
        "    print(f\"Random State: {state}, Acurácia k=3: {accuracies['k=3']:.2f}, Acurácia k=5: {accuracies['k=5']:.2f}\")\n"
      ],
      "metadata": {
        "colab": {
          "base_uri": "https://localhost:8080/"
        },
        "id": "Z9B3NajXWcaC",
        "outputId": "dc16da7c-776a-4f2e-f640-5e0e117ea2b2"
      },
      "execution_count": 7,
      "outputs": [
        {
          "output_type": "stream",
          "name": "stdout",
          "text": [
            "\n",
            "Random State: 17\n",
            "Acurácia do KNN com k=3: 0.65\n",
            "Acurácia do KNN com k=5: 0.67\n",
            "O modelo com k=5 apresenta melhor desempenho.\n",
            "\n",
            "\n",
            "Random State: 24\n",
            "Acurácia do KNN com k=3: 0.74\n",
            "Acurácia do KNN com k=5: 0.67\n",
            "O modelo com k=3 apresenta melhor desempenho.\n",
            "\n",
            "\n",
            "Resumo Final:\n",
            "Random State: 17, Acurácia k=3: 0.65, Acurácia k=5: 0.67\n",
            "Random State: 24, Acurácia k=3: 0.74, Acurácia k=5: 0.67\n"
          ]
        }
      ]
    },
    {
      "cell_type": "code",
      "source": [
        "# Comparação final\n",
        "best_state = None\n",
        "best_k = None\n",
        "best_accuracy = 0\n",
        "\n",
        "print(\"\\n### Comparação Final ###\")\n",
        "for state, accuracies in results.items():\n",
        "    for k, acc in accuracies.items():\n",
        "        print(f\"Random State: {state}, k={k}, Acurácia: {acc:.2f}\")\n",
        "        if acc > best_accuracy:\n",
        "            best_accuracy = acc\n",
        "            best_state = state\n",
        "            best_k = k\n",
        "\n",
        "# Melhor configuração\n",
        "print(\"\\n### Melhor Configuração ###\")\n",
        "print(f\"Random State: {best_state}, k={best_k}, Acurácia: {best_accuracy:.2f}\")\n"
      ],
      "metadata": {
        "colab": {
          "base_uri": "https://localhost:8080/"
        },
        "id": "n-6Hz9YqWuLP",
        "outputId": "db994558-4c0f-4d47-ba67-349df9edd431"
      },
      "execution_count": 8,
      "outputs": [
        {
          "output_type": "stream",
          "name": "stdout",
          "text": [
            "\n",
            "### Comparação Final ###\n",
            "Random State: 17, k=k=3, Acurácia: 0.65\n",
            "Random State: 17, k=k=5, Acurácia: 0.67\n",
            "Random State: 24, k=k=3, Acurácia: 0.74\n",
            "Random State: 24, k=k=5, Acurácia: 0.67\n",
            "\n",
            "### Melhor Configuração ###\n",
            "Random State: 24, k=k=3, Acurácia: 0.74\n"
          ]
        }
      ]
    }
  ]
}