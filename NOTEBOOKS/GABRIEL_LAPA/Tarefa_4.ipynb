{
  "nbformat": 4,
  "nbformat_minor": 0,
  "metadata": {
    "colab": {
      "provenance": []
    },
    "kernelspec": {
      "name": "python3",
      "display_name": "Python 3"
    },
    "language_info": {
      "name": "python"
    }
  },
  "cells": [
    {
      "cell_type": "code",
      "execution_count": 1,
      "metadata": {
        "id": "4zAexT_xXFue"
      },
      "outputs": [],
      "source": [
        "import pandas as pd\n",
        "\n",
        "# URL do dataset Wine\n",
        "url = 'https://archive.ics.uci.edu/ml/machine-learning-databases/wine/wine.data'\n",
        "\n",
        "# Nome das colunas em português BR\n",
        "column_names_pt_br = [\n",
        "    'classe',\n",
        "    'alcool',\n",
        "    'acido_malico',\n",
        "    'cinzas',\n",
        "    'alcalinidade_de_cinzas',\n",
        "    'magnesio',\n",
        "    'fenois_totais',\n",
        "    'flavanoides',\n",
        "    'fenois_nao_flavanoides',\n",
        "    'proantocianinas',\n",
        "    'intensidade_de_cor',\n",
        "    'matiz',\n",
        "    'od280_od315_de_vinhos_diluidos',\n",
        "    'prolina'\n",
        "]\n",
        "\n",
        "# Ler o arquivo CSV com as colunas especificadas, definindo a coluna 'classe' como object\n",
        "vinhos = pd.read_csv(url, names=column_names_pt_br, dtype={'classe': object})"
      ]
    },
    {
      "cell_type": "code",
      "source": [
        "# Separar as features (X) e a target (y)\n",
        "X = vinhos.iloc[:, 1:]\n",
        "y = vinhos['classe']\n",
        "\n",
        "# Verificando as primeiras linhas de X e y\n",
        "print(\"Primeiras linhas de X:\")\n",
        "print(X.head())\n",
        "print(\"\\nPrimeiras linhas de y:\")\n",
        "print(y.head())\n"
      ],
      "metadata": {
        "colab": {
          "base_uri": "https://localhost:8080/"
        },
        "id": "_YmcoFjgXSBC",
        "outputId": "dbc435c4-5ac3-4514-d5f1-85058bac63c1"
      },
      "execution_count": 2,
      "outputs": [
        {
          "output_type": "stream",
          "name": "stdout",
          "text": [
            "Primeiras linhas de X:\n",
            "   alcool  acido_malico  cinzas  alcalinidade_de_cinzas  magnesio  \\\n",
            "0   14.23          1.71    2.43                    15.6       127   \n",
            "1   13.20          1.78    2.14                    11.2       100   \n",
            "2   13.16          2.36    2.67                    18.6       101   \n",
            "3   14.37          1.95    2.50                    16.8       113   \n",
            "4   13.24          2.59    2.87                    21.0       118   \n",
            "\n",
            "   fenois_totais  flavanoides  fenois_nao_flavanoides  proantocianinas  \\\n",
            "0           2.80         3.06                    0.28             2.29   \n",
            "1           2.65         2.76                    0.26             1.28   \n",
            "2           2.80         3.24                    0.30             2.81   \n",
            "3           3.85         3.49                    0.24             2.18   \n",
            "4           2.80         2.69                    0.39             1.82   \n",
            "\n",
            "   intensidade_de_cor  matiz  od280_od315_de_vinhos_diluidos  prolina  \n",
            "0                5.64   1.04                            3.92     1065  \n",
            "1                4.38   1.05                            3.40     1050  \n",
            "2                5.68   1.03                            3.17     1185  \n",
            "3                7.80   0.86                            3.45     1480  \n",
            "4                4.32   1.04                            2.93      735  \n",
            "\n",
            "Primeiras linhas de y:\n",
            "0    1\n",
            "1    1\n",
            "2    1\n",
            "3    1\n",
            "4    1\n",
            "Name: classe, dtype: object\n"
          ]
        }
      ]
    },
    {
      "cell_type": "code",
      "source": [
        "from sklearn.model_selection import train_test_split\n",
        "from sklearn.neighbors import KNeighborsClassifier\n",
        "from sklearn.metrics import accuracy_score\n",
        "\n",
        "# Lista de random_states para os experimentos\n",
        "random_states = [42, 17, 24]\n",
        "\n",
        "# Dicionário para armazenar os resultados\n",
        "results = {}\n",
        "\n",
        "for state in random_states:\n",
        "    print(f\"\\nExperimentando com random_state = {state}\")\n",
        "\n",
        "    # Treino e teste\n",
        "    X_train, X_test, y_train, y_test = train_test_split(X, y, test_size=0.3, random_state=state)\n",
        "\n",
        "    # KNN com k=3\n",
        "    knn_k3 = KNeighborsClassifier(n_neighbors=3)\n",
        "    knn_k3.fit(X_train, y_train)\n",
        "    y_pred_k3 = knn_k3.predict(X_test)\n",
        "    accuracy_k3 = accuracy_score(y_test, y_pred_k3)\n",
        "    print(f\"Acurácia do KNN com k=3: {accuracy_k3:.2f}\")\n",
        "\n",
        "    # KNN com k=5\n",
        "    knn_k5 = KNeighborsClassifier(n_neighbors=5)\n",
        "    knn_k5.fit(X_train, y_train)\n",
        "    y_pred_k5 = knn_k5.predict(X_test)\n",
        "    accuracy_k5 = accuracy_score(y_test, y_pred_k5)\n",
        "    print(f\"Acurácia do KNN com k=5: {accuracy_k5:.2f}\")\n",
        "\n",
        "    # Armazenar os resultados\n",
        "    results[state] = {\n",
        "        \"k=3\": accuracy_k3,\n",
        "        \"k=5\": accuracy_k5\n",
        "    }\n",
        "\n",
        "# Resultados\n",
        "print(\"\\n### Resumo Final dos Resultados ###\")\n",
        "for state, accuracies in results.items():\n",
        "    print(f\"Random State: {state}, Acurácia k=3: {accuracies['k=3']:.2f}, Acurácia k=5: {accuracies['k=5']:.2f}\")\n"
      ],
      "metadata": {
        "colab": {
          "base_uri": "https://localhost:8080/"
        },
        "id": "TourEhMdXg_X",
        "outputId": "c9be1cc9-c421-4e31-9f09-ccb38059fe50"
      },
      "execution_count": 3,
      "outputs": [
        {
          "output_type": "stream",
          "name": "stdout",
          "text": [
            "\n",
            "Experimentando com random_state = 42\n",
            "Acurácia do KNN com k=3: 0.74\n",
            "Acurácia do KNN com k=5: 0.74\n",
            "\n",
            "Experimentando com random_state = 17\n",
            "Acurácia do KNN com k=3: 0.65\n",
            "Acurácia do KNN com k=5: 0.67\n",
            "\n",
            "Experimentando com random_state = 24\n",
            "Acurácia do KNN com k=3: 0.74\n",
            "Acurácia do KNN com k=5: 0.67\n",
            "\n",
            "### Resumo Final dos Resultados ###\n",
            "Random State: 42, Acurácia k=3: 0.74, Acurácia k=5: 0.74\n",
            "Random State: 17, Acurácia k=3: 0.65, Acurácia k=5: 0.67\n",
            "Random State: 24, Acurácia k=3: 0.74, Acurácia k=5: 0.67\n"
          ]
        }
      ]
    },
    {
      "cell_type": "code",
      "source": [
        "from sklearn.model_selection import KFold\n",
        "from sklearn.neighbors import KNeighborsClassifier\n",
        "from sklearn.metrics import accuracy_score\n",
        "import numpy as np\n",
        "\n",
        "# Função para realizar o KFold Cross-Validation\n",
        "def kfold_cross_validation(X, y, random_state, k_values=[3, 5]):\n",
        "    # KFold com 10 splits\n",
        "    kf = KFold(n_splits=10, shuffle=True, random_state=random_state)\n",
        "\n",
        "    # Armazenar as acurácias para cada valor de k\n",
        "    accuracies = {k: [] for k in k_values}\n",
        "\n",
        "    # Iterar pelos folds\n",
        "    for train_index, test_index in kf.split(X):\n",
        "        X_train, X_test = X.iloc[train_index], X.iloc[test_index]\n",
        "        y_train, y_test = y.iloc[train_index], y.iloc[test_index]\n",
        "\n",
        "        # Treinamento e avaliação para cada valor de k\n",
        "        for k in k_values:\n",
        "            knn = KNeighborsClassifier(n_neighbors=k)\n",
        "            knn.fit(X_train, y_train)\n",
        "\n",
        "            # Previsões e calcular a acurácia\n",
        "            y_pred = knn.predict(X_test)\n",
        "            accuracy = accuracy_score(y_test, y_pred)\n",
        "            accuracies[k].append(accuracy)\n",
        "\n",
        "    # Média e desvio padrão para cada k\n",
        "    for k in k_values:\n",
        "        mean_accuracy = np.mean(accuracies[k])\n",
        "        std_accuracy = np.std(accuracies[k])\n",
        "        print(f\"Random State: {random_state}, k={k} -> Média: {mean_accuracy:.2f}, Desvio Padrão: {std_accuracy:.2f}\")\n",
        "        return accuracies\n",
        "\n",
        "# Experimentar com diferentes random_states\n",
        "random_states = [42, 17, 24]\n",
        "for state in random_states:\n",
        "    print(f\"\\n### Cross-Validation para random_state = {state} ###\")\n",
        "    kfold_cross_validation(X, y, random_state=state)\n"
      ],
      "metadata": {
        "colab": {
          "base_uri": "https://localhost:8080/"
        },
        "id": "h2OpjhqeXzAz",
        "outputId": "59b8b9b7-b4b8-44f6-d9cf-d382039c1047"
      },
      "execution_count": 4,
      "outputs": [
        {
          "output_type": "stream",
          "name": "stdout",
          "text": [
            "\n",
            "### Cross-Validation para random_state = 42 ###\n",
            "Random State: 42, k=3 -> Média: 0.70, Desvio Padrão: 0.14\n",
            "\n",
            "### Cross-Validation para random_state = 17 ###\n",
            "Random State: 17, k=3 -> Média: 0.70, Desvio Padrão: 0.10\n",
            "\n",
            "### Cross-Validation para random_state = 24 ###\n",
            "Random State: 24, k=3 -> Média: 0.71, Desvio Padrão: 0.10\n"
          ]
        }
      ]
    },
    {
      "cell_type": "code",
      "source": [
        "import numpy as np\n",
        "\n",
        "# KFold Cross-Validation\n",
        "def kfold_cross_validation(X, y, random_state, k_values=[3, 5]):\n",
        "    # Configuração do KFold com 10 splits\n",
        "    kf = KFold(n_splits=10, shuffle=True, random_state=random_state)\n",
        "\n",
        "    # Armazenar as acurácias para cada valor de k\n",
        "    accuracies = {k: [] for k in k_values}\n",
        "\n",
        "    # Itera\n",
        "    for train_index, test_index in kf.split(X):\n",
        "        X_train, X_test = X.iloc[train_index], X.iloc[test_index]\n",
        "        y_train, y_test = y.iloc[train_index], y.iloc[test_index]\n",
        "\n",
        "        # Treinamento e avaliação para cada valor de k\n",
        "        for k in k_values:\n",
        "            knn = KNeighborsClassifier(n_neighbors=k)\n",
        "            knn.fit(X_train, y_train)\n",
        "\n",
        "            # Fazer previsões e calcular a acurácia\n",
        "            y_pred = knn.predict(X_test)\n",
        "            accuracy = accuracy_score(y_test, y_pred)\n",
        "            accuracies[k].append(accuracy)\n",
        "\n",
        "    # Calcular a média e desvio padrão para cada k\n",
        "    for k in k_values:\n",
        "        mean_accuracy = np.mean(accuracies[k])\n",
        "        std_accuracy = np.std(accuracies[k])\n",
        "        print(f\"Random State: {random_state}, k={k} -> Média: {mean_accuracy:.2f}, Desvio Padrão: {std_accuracy:.2f}\")\n",
        "\n",
        "    return accuracies\n",
        "\n",
        "# Experimentos com diferentes random_states\n",
        "random_states = [42, 17, 24]\n",
        "best_k_per_state = {}\n",
        "\n",
        "for state in random_states:\n",
        "    print(f\"\\n### Analisando para random_state = {state} ###\")\n",
        "    accuracies = kfold_cross_validation(X, y, random_state=state)\n",
        "\n",
        "    # Comparando para k=3 e k=5\n",
        "    mean_accuracy_k3 = np.mean(accuracies[3])\n",
        "    mean_accuracy_k5 = np.mean(accuracies[5])\n",
        "\n",
        "    # Identificando o melhor valor de k\n",
        "    if mean_accuracy_k3 > mean_accuracy_k5:\n",
        "        best_k_per_state[state] = 3\n",
        "        print(f\"Melhor k para random_state = {state}: k=3\")\n",
        "    elif mean_accuracy_k5 > mean_accuracy_k3:\n",
        "        best_k_per_state[state] = 5\n",
        "        print(f\"Melhor k para random_state = {state}: k=5\")\n",
        "    else:\n",
        "        best_k_per_state[state] = 'Empate'\n",
        "        print(f\"Houve empate para random_state = {state} entre k=3 e k=5\")\n",
        "\n",
        "# Resumo final dos melhores k por random_state\n",
        "print(\"\\n### Resumo dos melhores valores de k por random_state ###\")\n",
        "for state, best_k in best_k_per_state.items():\n",
        "    print(f\"Random State: {state}, Melhor k: {best_k}\")\n"
      ],
      "metadata": {
        "colab": {
          "base_uri": "https://localhost:8080/"
        },
        "id": "HEsCSiDZbjWP",
        "outputId": "38256918-710f-4bdc-dcbf-0c5802cc4aa8"
      },
      "execution_count": 5,
      "outputs": [
        {
          "output_type": "stream",
          "name": "stdout",
          "text": [
            "\n",
            "### Analisando para random_state = 42 ###\n",
            "Random State: 42, k=3 -> Média: 0.70, Desvio Padrão: 0.14\n",
            "Random State: 42, k=5 -> Média: 0.66, Desvio Padrão: 0.10\n",
            "Melhor k para random_state = 42: k=3\n",
            "\n",
            "### Analisando para random_state = 17 ###\n",
            "Random State: 17, k=3 -> Média: 0.70, Desvio Padrão: 0.10\n",
            "Random State: 17, k=5 -> Média: 0.69, Desvio Padrão: 0.11\n",
            "Melhor k para random_state = 17: k=3\n",
            "\n",
            "### Analisando para random_state = 24 ###\n",
            "Random State: 24, k=3 -> Média: 0.71, Desvio Padrão: 0.10\n",
            "Random State: 24, k=5 -> Média: 0.71, Desvio Padrão: 0.09\n",
            "Houve empate para random_state = 24 entre k=3 e k=5\n",
            "\n",
            "### Resumo dos melhores valores de k por random_state ###\n",
            "Random State: 42, Melhor k: 3\n",
            "Random State: 17, Melhor k: 3\n",
            "Random State: 24, Melhor k: Empate\n"
          ]
        }
      ]
    },
    {
      "cell_type": "markdown",
      "source": [
        "#Para o experimento com random_state = 42:\n",
        "A diferença entre os dois foi pequena, mas ainda assim, k=3 apresentou o melhor desempenho, ainda que de forma bem equilibrada.\n",
        "\n",
        "#Para o experimento com random_state = 24:\n",
        "Para este valor de random_state, os modelos com 𝑘=3 e 𝑘=5\n",
        "tiveram o mesmo desempenho, ou seja, houve um empate entre os dois valores de 𝑘\n",
        "\n",
        "#Para o experimento com random_state = 17:\n",
        "Aqui, o valor de 𝑘=3 teve uma média de 0.70, com um desvio padrão de 0.10. O modelo com 𝑘=5 obteve uma média de 0.69 e desvio padrão de 0.11.\n",
        "A diferença entre os dois foi pequena, mas ainda assim, k=3 apresentou o melhor desempenho, ainda que de forma bem equilibrada.\n",
        "\n",
        "k=3 foi a escolha mais vantajosa, embora o empate tenha ocorrido para k=3 e k=5 no caso do random_state = 24."
      ],
      "metadata": {
        "id": "gB3s3WJpcKQK"
      }
    }
  ]
}