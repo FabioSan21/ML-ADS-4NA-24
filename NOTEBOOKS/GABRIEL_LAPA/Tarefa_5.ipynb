{
  "nbformat": 4,
  "nbformat_minor": 0,
  "metadata": {
    "colab": {
      "provenance": []
    },
    "kernelspec": {
      "name": "python3",
      "display_name": "Python 3"
    },
    "language_info": {
      "name": "python"
    }
  },
  "cells": [
    {
      "cell_type": "code",
      "execution_count": 1,
      "metadata": {
        "id": "WSctipjxdcLw"
      },
      "outputs": [],
      "source": [
        "import pandas as pd\n",
        "\n",
        "# URL do dataset Wine\n",
        "url = 'https://archive.ics.uci.edu/ml/machine-learning-databases/wine/wine.data'\n",
        "\n",
        "# Nome das colunas em português BR\n",
        "column_names_pt_br = [\n",
        "    'classe',\n",
        "    'alcool',\n",
        "    'acido_malico',\n",
        "    'cinzas',\n",
        "    'alcalinidade_de_cinzas',\n",
        "    'magnesio',\n",
        "    'fenois_totais',\n",
        "    'flavanoides',\n",
        "    'fenois_nao_flavanoides',\n",
        "    'proantocianinas',\n",
        "    'intensidade_de_cor',\n",
        "    'matiz',\n",
        "    'od280_od315_de_vinhos_diluidos',\n",
        "    'prolina'\n",
        "]\n",
        "\n",
        "# Ler o arquivo CSV com as colunas especificadas, definindo a coluna 'classe' como object\n",
        "vinhos = pd.read_csv(url, names=column_names_pt_br, dtype={'classe': object})"
      ]
    },
    {
      "cell_type": "code",
      "source": [
        "from sklearn.preprocessing import MinMaxScaler\n",
        "\n",
        "# Dropar a coluna 'classe'\n",
        "X = vinhos.drop('classe', axis=1)\n",
        "\n",
        "# Reescala linear dos dados\n",
        "scaler = MinMaxScaler()\n",
        "X_scaled = scaler.fit_transform(X)"
      ],
      "metadata": {
        "id": "Ih4boDGmdiXe"
      },
      "execution_count": 2,
      "outputs": []
    },
    {
      "cell_type": "code",
      "source": [
        "from sklearn.cluster import KMeans\n",
        "\n",
        "# Número de clusters (4 clusters)\n",
        "kmeans = KMeans(n_clusters=4, random_state=42)\n",
        "\n",
        "# Ajustar o modelo KMeans nos dados normalizados\n",
        "kmeans.fit(X_scaled)\n",
        "\n",
        "# Obter as previsões (labels dos clusters) para cada amostra\n",
        "vinhos['cluster'] = kmeans.labels_\n",
        "\n",
        "# Visualizar os primeiros registros para ver a distribuição dos clusters\n",
        "print(vinhos.head())"
      ],
      "metadata": {
        "colab": {
          "base_uri": "https://localhost:8080/"
        },
        "id": "hApKZzySdsbc",
        "outputId": "66afd84e-e5cd-4e1f-fe34-ff8b4116a2c2"
      },
      "execution_count": 3,
      "outputs": [
        {
          "output_type": "stream",
          "name": "stdout",
          "text": [
            "  classe  alcool  acido_malico  cinzas  alcalinidade_de_cinzas  magnesio  \\\n",
            "0      1   14.23          1.71    2.43                    15.6       127   \n",
            "1      1   13.20          1.78    2.14                    11.2       100   \n",
            "2      1   13.16          2.36    2.67                    18.6       101   \n",
            "3      1   14.37          1.95    2.50                    16.8       113   \n",
            "4      1   13.24          2.59    2.87                    21.0       118   \n",
            "\n",
            "   fenois_totais  flavanoides  fenois_nao_flavanoides  proantocianinas  \\\n",
            "0           2.80         3.06                    0.28             2.29   \n",
            "1           2.65         2.76                    0.26             1.28   \n",
            "2           2.80         3.24                    0.30             2.81   \n",
            "3           3.85         3.49                    0.24             2.18   \n",
            "4           2.80         2.69                    0.39             1.82   \n",
            "\n",
            "   intensidade_de_cor  matiz  od280_od315_de_vinhos_diluidos  prolina  cluster  \n",
            "0                5.64   1.04                            3.92     1065        2  \n",
            "1                4.38   1.05                            3.40     1050        2  \n",
            "2                5.68   1.03                            3.17     1185        2  \n",
            "3                7.80   0.86                            3.45     1480        2  \n",
            "4                4.32   1.04                            2.93      735        2  \n"
          ]
        }
      ]
    },
    {
      "cell_type": "code",
      "source": [
        "from sklearn.cluster import KMeans\n",
        "\n",
        "# Aplicar K-Means com 4 clusters\n",
        "kmeans = KMeans(n_clusters=4, random_state=42)\n",
        "vinhos['cluster'] = kmeans.fit_predict(X_scaled)\n",
        "\n",
        "# Apresentar o valor da inércia\n",
        "print(f'Inércia do modelo K-Means: {kmeans.inertia_}')  # Exemplo de como apresentar a inércia\n"
      ],
      "metadata": {
        "colab": {
          "base_uri": "https://localhost:8080/"
        },
        "id": "4VtnP3mjd0Z8",
        "outputId": "f94ad353-d721-44ed-8489-39934e495115"
      },
      "execution_count": 4,
      "outputs": [
        {
          "output_type": "stream",
          "name": "stdout",
          "text": [
            "Inércia do modelo K-Means: 44.887604580852816\n"
          ]
        }
      ]
    },
    {
      "cell_type": "code",
      "source": [
        "# Distribuição dos clusters\n",
        "cluster_distribution = vinhos['cluster'].value_counts()\n",
        "\n",
        "# Mostrar a distribuição\n",
        "print(cluster_distribution)\n"
      ],
      "metadata": {
        "colab": {
          "base_uri": "https://localhost:8080/"
        },
        "id": "_4ltL-KFd5dx",
        "outputId": "119f5bea-72d7-4d69-d0b0-c8b2ff92f3fd"
      },
      "execution_count": 5,
      "outputs": [
        {
          "output_type": "stream",
          "name": "stdout",
          "text": [
            "cluster\n",
            "2    59\n",
            "1    50\n",
            "0    36\n",
            "3    33\n",
            "Name: count, dtype: int64\n"
          ]
        }
      ]
    },
    {
      "cell_type": "code",
      "source": [
        "# Comparar a distribuição dos clusters com as classes originais\n",
        "distribuicao_classes_clusters = vinhos.groupby(['classe', 'cluster']).size().unstack(fill_value=0)\n",
        "\n",
        "# Mostrar a distribuição\n",
        "print(distribuicao_classes_clusters)"
      ],
      "metadata": {
        "colab": {
          "base_uri": "https://localhost:8080/"
        },
        "id": "cSOwGXgsezj2",
        "outputId": "95b013fb-e99d-4067-9898-d46be50a3d81"
      },
      "execution_count": 7,
      "outputs": [
        {
          "output_type": "stream",
          "name": "stdout",
          "text": [
            "cluster   0   1   2   3\n",
            "classe                 \n",
            "1         2   0  57   0\n",
            "2        34   2   2  33\n",
            "3         0  48   0   0\n"
          ]
        }
      ]
    }
  ]
}