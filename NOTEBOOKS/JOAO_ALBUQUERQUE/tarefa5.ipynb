{
  "cells": [
    {
      "cell_type": "code",
      "source": [
        "import pandas as pd\n",
        "\n",
        "# URL do dataset Wine\n",
        "url = 'https://archive.ics.uci.edu/ml/machine-learning-databases/wine/wine.data'\n",
        "\n",
        "# Nome das colunas em português BR\n",
        "column_names_pt_br = [\n",
        "    'classe',\n",
        "    'alcool',\n",
        "    'acido_malico',\n",
        "    'cinzas',\n",
        "    'alcalinidade_de_cinzas',\n",
        "    'magnesio',\n",
        "    'fenois_totais',\n",
        "    'flavanoides',\n",
        "    'fenois_nao_flavanoides',\n",
        "    'proantocianinas',\n",
        "    'intensidade_de_cor',\n",
        "    'matiz',\n",
        "    'od280_od315_de_vinhos_diluidos',\n",
        "    'prolina'\n",
        "]\n",
        "\n",
        "# Ler o arquivo CSV com as colunas especificadas, definindo a coluna 'classe' como object\n",
        "vinhos = pd.read_csv(url, names=column_names_pt_br, dtype={'classe': object})"
      ],
      "metadata": {
        "id": "55NBAWYWv46E"
      },
      "execution_count": null,
      "outputs": []
    },
    {
      "cell_type": "code",
      "source": [
        "from sklearn.preprocessing import MinMaxScaler\n",
        "import pandas as pd\n",
        "\n",
        "# Dropar a coluna 'classe' para normalização\n",
        "X = vinhos.drop('classe', axis=1)\n",
        "\n",
        "# Criar o scaler e aplicar a normalização\n",
        "scaler = MinMaxScaler()\n",
        "X_scaled = scaler.fit_transform(X)\n",
        "\n",
        "# Convertendo os dados normalizados de volta para um DataFrame\n",
        "X_scaled_df = pd.DataFrame(X_scaled, columns=X.columns)\n",
        "\n",
        "# Exibindo os primeiros valores normalizados\n",
        "print(\"Dados Normalizados (primeiras 5 linhas):\")\n",
        "print(X_scaled_df.head())\n"
      ],
      "metadata": {
        "id": "43otAx1MwQGe",
        "outputId": "07b45c2f-b9ec-43b6-9b9e-30013aa40fee",
        "colab": {
          "base_uri": "https://localhost:8080/"
        }
      },
      "execution_count": null,
      "outputs": [
        {
          "output_type": "stream",
          "name": "stdout",
          "text": [
            "Dados Normalizados (primeiras 5 linhas):\n",
            "     alcool  acido_malico    cinzas  alcalinidade_de_cinzas  magnesio  \\\n",
            "0  0.842105      0.191700  0.572193                0.257732  0.619565   \n",
            "1  0.571053      0.205534  0.417112                0.030928  0.326087   \n",
            "2  0.560526      0.320158  0.700535                0.412371  0.336957   \n",
            "3  0.878947      0.239130  0.609626                0.319588  0.467391   \n",
            "4  0.581579      0.365613  0.807487                0.536082  0.521739   \n",
            "\n",
            "   fenois_totais  flavanoides  fenois_nao_flavanoides  proantocianinas  \\\n",
            "0       0.627586     0.573840                0.283019         0.593060   \n",
            "1       0.575862     0.510549                0.245283         0.274448   \n",
            "2       0.627586     0.611814                0.320755         0.757098   \n",
            "3       0.989655     0.664557                0.207547         0.558360   \n",
            "4       0.627586     0.495781                0.490566         0.444795   \n",
            "\n",
            "   intensidade_de_cor     matiz  od280_od315_de_vinhos_diluidos   prolina  \n",
            "0            0.372014  0.455285                        0.970696  0.561341  \n",
            "1            0.264505  0.463415                        0.780220  0.550642  \n",
            "2            0.375427  0.447154                        0.695971  0.646933  \n",
            "3            0.556314  0.308943                        0.798535  0.857347  \n",
            "4            0.259386  0.455285                        0.608059  0.325963  \n"
          ]
        }
      ]
    },
    {
      "cell_type": "code",
      "source": [
        "from sklearn.cluster import KMeans\n",
        "\n",
        "# Aplicar K-Means com 4 clusters\n",
        "kmeans = KMeans(n_clusters=4, random_state=42)\n",
        "vinhos['cluster'] = kmeans.fit_predict(X_scaled)\n",
        "\n",
        "# Apresentar o valor da inércia\n",
        "print(f'Inércia do modelo K-Means: {kmeans.inertia_}')\n",
        "\n",
        "# Exibir os primeiros valores do DataFrame com os clusters atribuídos\n",
        "print(\"\\nDados com clusters atribuídos (primeiras 5 linhas):\")\n",
        "print(vinhos[['classe', 'cluster']].head())\n"
      ],
      "metadata": {
        "id": "tDlXnyf2wnMi",
        "outputId": "c119c192-5087-4c30-b7a8-cb4465e243be",
        "colab": {
          "base_uri": "https://localhost:8080/"
        }
      },
      "execution_count": null,
      "outputs": [
        {
          "output_type": "stream",
          "name": "stdout",
          "text": [
            "Inércia do modelo K-Means: 44.887604580852816\n",
            "\n",
            "Dados com clusters atribuídos (primeiras 5 linhas):\n",
            "  classe  cluster\n",
            "0      1        2\n",
            "1      1        2\n",
            "2      1        2\n",
            "3      1        2\n",
            "4      1        2\n"
          ]
        }
      ]
    },
    {
      "cell_type": "code",
      "source": [
        "# Apresentar a contagem dos clusters\n",
        "print(vinhos['cluster'].value_counts())\n"
      ],
      "metadata": {
        "id": "FikBn5BSwx7L",
        "outputId": "46722d44-16a9-4a76-eba5-9dbfad50aee7",
        "colab": {
          "base_uri": "https://localhost:8080/"
        }
      },
      "execution_count": null,
      "outputs": [
        {
          "output_type": "stream",
          "name": "stdout",
          "text": [
            "cluster\n",
            "2    59\n",
            "1    50\n",
            "0    36\n",
            "3    33\n",
            "Name: count, dtype: int64\n"
          ]
        }
      ]
    },
    {
      "cell_type": "code",
      "source": [
        "# Comparar clusters com as classes originais\n",
        "comparacao = vinhos.groupby('cluster')['classe'].value_counts()\n",
        "print(comparacao)"
      ],
      "metadata": {
        "id": "oVH83qhJw4_y",
        "outputId": "e9359a14-cdad-4a16-9639-575c3a3e264b",
        "colab": {
          "base_uri": "https://localhost:8080/"
        }
      },
      "execution_count": null,
      "outputs": [
        {
          "output_type": "stream",
          "name": "stdout",
          "text": [
            "cluster  classe\n",
            "0        2         34\n",
            "         1          2\n",
            "1        3         48\n",
            "         2          2\n",
            "2        1         57\n",
            "         2          2\n",
            "3        2         33\n",
            "Name: count, dtype: int64\n"
          ]
        }
      ]
    }
  ],
  "metadata": {
    "colab": {
      "toc_visible": true,
      "provenance": []
    },
    "kernelspec": {
      "display_name": "Python 3",
      "name": "python3"
    }
  },
  "nbformat": 4,
  "nbformat_minor": 0
}