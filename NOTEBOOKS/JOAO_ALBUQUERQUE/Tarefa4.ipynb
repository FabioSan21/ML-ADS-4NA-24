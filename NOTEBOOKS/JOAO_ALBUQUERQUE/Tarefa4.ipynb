{
  "cells": [
    {
      "cell_type": "code",
      "source": [
        "import pandas as pd\n",
        "\n",
        "# URL do dataset Wine\n",
        "url = 'https://archive.ics.uci.edu/ml/machine-learning-databases/wine/wine.data'\n",
        "\n",
        "# Nome das colunas em português BR\n",
        "column_names_pt_br = [\n",
        "    'classe',\n",
        "    'alcool',\n",
        "    'acido_malico',\n",
        "    'cinzas',\n",
        "    'alcalinidade_de_cinzas',\n",
        "    'magnesio',\n",
        "    'fenois_totais',\n",
        "    'flavanoides',\n",
        "    'fenois_nao_flavanoides',\n",
        "    'proantocianinas',\n",
        "    'intensidade_de_cor',\n",
        "    'matiz',\n",
        "    'od280_od315_de_vinhos_diluidos',\n",
        "    'prolina'\n",
        "]\n",
        "\n",
        "# Ler o arquivo CSV com as colunas especificadas, definindo a coluna 'classe' como object\n",
        "vinhos = pd.read_csv(url, names=column_names_pt_br, dtype={'classe': object})\n"
      ],
      "metadata": {
        "id": "wttzfp7Mt_LK"
      },
      "execution_count": null,
      "outputs": []
    },
    {
      "cell_type": "code",
      "source": [
        "\n",
        "X = vinhos.drop(columns=['classe'])\n",
        "y = vinhos['classe']\n",
        "\n",
        "# Verificando as dimensões de X e y\n",
        "print(\"Dimensões de X:\", X.shape)\n",
        "print(\"Dimensões de y:\", y.shape)\n"
      ],
      "metadata": {
        "id": "62y21_iouLMI",
        "outputId": "1ac4170f-2a17-4698-df59-d372858e04e1",
        "colab": {
          "base_uri": "https://localhost:8080/"
        }
      },
      "execution_count": null,
      "outputs": [
        {
          "output_type": "stream",
          "name": "stdout",
          "text": [
            "Dimensões de X: (178, 13)\n",
            "Dimensões de y: (178,)\n"
          ]
        }
      ]
    },
    {
      "cell_type": "code",
      "source": [
        "from sklearn.neighbors import KNeighborsClassifier\n",
        "from sklearn.metrics import accuracy_score\n",
        "from sklearn.model_selection import train_test_split\n",
        "\n",
        "# Função para realizar os experimentos\n",
        "def realizar_experimentos(random_states, k_values):\n",
        "    resultados = []\n",
        "\n",
        "    for random_state in random_states:\n",
        "\n",
        "        X_train, X_test, y_train, y_test = train_test_split(X, y, test_size=0.3, random_state=random_state)\n",
        "\n",
        "        for k in k_values:\n",
        "            # Treinando o modelo com KNN\n",
        "            knn = KNeighborsClassifier(n_neighbors=k)\n",
        "            knn.fit(X_train, y_train)\n",
        "\n",
        "\n",
        "            y_pred = knn.predict(X_test)\n",
        "            accuracy = accuracy_score(y_test, y_pred)\n",
        "\n",
        "\n",
        "            resultados.append((random_state, k, accuracy))\n",
        "\n",
        "    return resultados\n",
        "\n",
        "\n",
        "random_states = [42, 17, 24]\n",
        "k_values = [3, 5]\n",
        "\n",
        "\n",
        "resultados = realizar_experimentos(random_states, k_values)\n",
        "\n",
        "\n",
        "import pandas as pd\n",
        "df_resultados = pd.DataFrame(resultados, columns=['Random State', 'k', 'Accuracy'])\n",
        "\n",
        "# Exibindo os resultados\n",
        "print(\"Resultados dos Experimentos:\")\n",
        "print(df_resultados)\n",
        "\n",
        "# Identificando a melhor configuração\n",
        "melhor_configuracao = df_resultados.loc[df_resultados['Accuracy'].idxmax()]\n",
        "print(\"\\nMelhor Configuração:\")\n",
        "print(melhor_configuracao)\n"
      ],
      "metadata": {
        "id": "xMyMs3O9uZ2e",
        "outputId": "9b2f3f93-21eb-4062-b24e-3f1207444cc8",
        "colab": {
          "base_uri": "https://localhost:8080/"
        }
      },
      "execution_count": null,
      "outputs": [
        {
          "output_type": "stream",
          "name": "stdout",
          "text": [
            "Resultados dos Experimentos:\n",
            "   Random State  k  Accuracy\n",
            "0            42  3  0.740741\n",
            "1            42  5  0.740741\n",
            "2            17  3  0.648148\n",
            "3            17  5  0.666667\n",
            "4            24  3  0.740741\n",
            "5            24  5  0.666667\n",
            "\n",
            "Melhor Configuração:\n",
            "Random State    42.000000\n",
            "k                3.000000\n",
            "Accuracy         0.740741\n",
            "Name: 0, dtype: float64\n"
          ]
        }
      ]
    },
    {
      "cell_type": "code",
      "source": [
        "from sklearn.model_selection import KFold\n",
        "from sklearn.neighbors import KNeighborsClassifier\n",
        "from sklearn.metrics import accuracy_score\n",
        "import numpy as np\n",
        "import pandas as pd\n",
        "\n",
        "\n",
        "def cross_validation_kfold(random_state, k_values):\n",
        "\n",
        "    kf = KFold(n_splits=10, shuffle=True, random_state=random_state)\n",
        "\n",
        "    resultados = []\n",
        "\n",
        "    for k in k_values:\n",
        "        acuracias = []\n",
        "\n",
        "        for train_index, test_index in kf.split(X):\n",
        "\n",
        "            X_train, X_test = X.iloc[train_index], X.iloc[test_index]\n",
        "            y_train, y_test = y.iloc[train_index], y.iloc[test_index]\n",
        "\n",
        "\n",
        "            knn = KNeighborsClassifier(n_neighbors=k)\n",
        "            knn.fit(X_train, y_train)\n",
        "\n",
        "            y_pred = knn.predict(X_test)\n",
        "            accuracy = accuracy_score(y_test, y_pred)\n",
        "            acuracias.append(accuracy)\n",
        "\n",
        "        media = np.mean(acuracias)\n",
        "        desvio_padrao = np.std(acuracias)\n",
        "\n",
        "        resultados.append((random_state, k, media, desvio_padrao))\n",
        "\n",
        "    return resultados\n",
        "\n",
        "\n",
        "random_states = [42, 17, 24]\n",
        "k_values = [3, 5]\n",
        "\n",
        "\n",
        "todos_resultados = []\n",
        "for rs in random_states:\n",
        "    resultados_rs = cross_validation_kfold(rs, k_values)\n",
        "    todos_resultados.extend(resultados_rs)\n",
        "\n",
        "\n",
        "df_resultados = pd.DataFrame(todos_resultados, columns=['Random State', 'k', 'Média Accuracy', 'Desvio Padrão'])\n",
        "\n",
        "# Exibindo os resultados\n",
        "print(\"Resultados de Cross-Validation com KFold:\")\n",
        "print(df_resultados)\n"
      ],
      "metadata": {
        "id": "HJyOAKjFuvzX",
        "outputId": "c0b4f6a1-c414-48b4-d88d-9fdb59382806",
        "colab": {
          "base_uri": "https://localhost:8080/"
        }
      },
      "execution_count": null,
      "outputs": [
        {
          "output_type": "stream",
          "name": "stdout",
          "text": [
            "Resultados de Cross-Validation com KFold:\n",
            "   Random State  k  Média Accuracy  Desvio Padrão\n",
            "0            42  3        0.703595       0.139187\n",
            "1            42  5        0.664052       0.100075\n",
            "2            17  3        0.698693       0.104030\n",
            "3            17  5        0.687582       0.112118\n",
            "4            24  3        0.712745       0.096816\n",
            "5            24  5        0.712745       0.093973\n"
          ]
        }
      ]
    },
    {
      "cell_type": "code",
      "source": [
        "\n",
        "def analise_resultados(df_resultados):\n",
        "    analise = []\n",
        "\n",
        "    grouped = df_resultados.groupby('Random State')\n",
        "\n",
        "    for random_state, group in grouped:\n",
        "\n",
        "        for k in [3, 5]:\n",
        "            dados_k = group[group['k'] == k]\n",
        "            media_acuracia = dados_k['Média Accuracy'].values[0]\n",
        "            desvio_padrao = dados_k['Desvio Padrão'].values[0]\n",
        "\n",
        "            analise.append((random_state, k, media_acuracia, desvio_padrao))\n",
        "\n",
        "\n",
        "        media_k3 = group[group['k'] == 3]['Média Accuracy'].values[0]\n",
        "        media_k5 = group[group['k'] == 5]['Média Accuracy'].values[0]\n",
        "\n",
        "        if media_k3 > media_k5:\n",
        "            melhor_k = 3\n",
        "        elif media_k3 < media_k5:\n",
        "            melhor_k = 5\n",
        "        else:\n",
        "            melhor_k = \"Empate\"\n",
        "\n",
        "\n",
        "        analise.append((random_state, \"Melhor k\", melhor_k, None))\n",
        "\n",
        "    return pd.DataFrame(analise, columns=['Random State', 'k', 'Média Accuracy', 'Desvio Padrão'])\n",
        "\n",
        "df_analise = analise_resultados(df_resultados)\n",
        "\n",
        "print(\"Análise dos Resultados do K-Fold Cross-Validation:\")\n",
        "print(df_analise)\n"
      ],
      "metadata": {
        "id": "ww8J3eVxvLrs",
        "outputId": "ec857d01-c4d1-416d-ba9b-3bf14f3ba519",
        "colab": {
          "base_uri": "https://localhost:8080/"
        }
      },
      "execution_count": null,
      "outputs": [
        {
          "output_type": "stream",
          "name": "stdout",
          "text": [
            "Análise dos Resultados do K-Fold Cross-Validation:\n",
            "   Random State         k Média Accuracy  Desvio Padrão\n",
            "0            17         3       0.698693       0.104030\n",
            "1            17         5       0.687582       0.112118\n",
            "2            17  Melhor k              3            NaN\n",
            "3            24         3       0.712745       0.096816\n",
            "4            24         5       0.712745       0.093973\n",
            "5            24  Melhor k         Empate            NaN\n",
            "6            42         3       0.703595       0.139187\n",
            "7            42         5       0.664052       0.100075\n",
            "8            42  Melhor k              3            NaN\n"
          ]
        }
      ]
    }
  ],
  "metadata": {
    "colab": {
      "toc_visible": true,
      "provenance": []
    },
    "kernelspec": {
      "display_name": "Python 3",
      "name": "python3"
    }
  },
  "nbformat": 4,
  "nbformat_minor": 0
}