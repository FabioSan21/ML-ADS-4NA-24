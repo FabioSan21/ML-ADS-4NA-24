{
 "cells": [
  {
   "cell_type": "markdown",
   "metadata": {},
   "source": [
    "# Classificação de Vinhos com KNN e K-Fold Cross-Validation\n",
    "Neste notebook, utilizamos o classificador K-Nearest Neighbors (KNN) para classificar vinhos com base em suas características, utilizando o dataset da UCI. Avaliaremos o desempenho do modelo com diferentes valores de `random_state` e número de vizinhos `k` através de K-Fold Cross-Validation."
   ]
  },
  {
   "cell_type": "code",
   "execution_count": null,
   "metadata": {},
   "outputs": [],
   "source": [
    "# Importação das bibliotecas necessárias\n",
    "import pandas as pd\n",
    "from sklearn.model_selection import train_test_split, KFold\n",
    "from sklearn.neighbors import KNeighborsClassifier\n",
    "from sklearn.metrics import accuracy_score\n"
   ]
  },
  {
   "cell_type": "code",
   "execution_count": null,
   "metadata": {},
   "outputs": [],
   "source": [
    "# Leitura do dataset\n",
    "url = 'https://archive.ics.uci.edu/ml/machine-learning-databases/wine/wine.data'\n",
    "\n",
    "column_names_pt_br = [\n",
    "    'classe',\n",
    "    'alcool',\n",
    "    'acido_malico',\n",
    "    'cinzas',\n",
    "    'alcalinidade_de_cinzas',\n",
    "    'magnesio',\n",
    "    'fenois_totais',\n",
    "    'flavanoides',\n",
    "    'fenois_nao_flavanoides',\n",
    "    'proantocianinas',\n",
    "    'intensidade_de_cor',\n",
    "    'matiz',\n",
    "    'od280_od315_de_vinhos_diluidos',\n",
    "    'prolina'\n",
    "]\n",
    "\n",
    "vinhos = pd.read_csv(url, names=column_names_pt_br, dtype={'classe': object})\n",
    "\n",
    "# Exibir uma amostra dos dados\n",
    "vinhos.head()"
   ]
  },
  {
   "cell_type": "code",
   "execution_count": null,
   "metadata": {},
   "outputs": [],
   "source": [
    "# Pré-processamento dos dados\n",
    "X = vinhos.drop('classe', axis=1)\n",
    "y = vinhos['classe']\n"
   ]
  },
  {
   "cell_type": "code",
   "execution_count": null,
   "metadata": {},
   "outputs": [],
   "source": [
    "# Função para realizar K-Fold Cross-Validation com KNN\n",
    "def knn_kfold_cross_val(X, y, k_values, random_state):\n",
    "    kf = KFold(n_splits=10, shuffle=True, random_state=random_state)\n",
    "    results = {}\n",
    "    for k in k_values:\n",
    "        accuracies = []\n",
    "        for train_index, test_index in kf.split(X):\n",
    "            X_train, X_test = X.iloc[train_index], X.iloc[test_index]\n",
    "            y_train, y_test = y.iloc[train_index], y.iloc[test_index]\n",
    "            knn = KNeighborsClassifier(n_neighbors=k)\n",
    "            knn.fit(X_train, y_train)\n",
    "            y_pred = knn.predict(X_test)\n",
    "            accuracy = accuracy_score(y_test, y_pred)\n",
    "            accuracies.append(accuracy)\n",
    "        results[k] = {'mean_accuracy': sum(accuracies)/len(accuracies), 'std_accuracy': pd.Series(accuracies).std()}\n",
    "    return results\n"
   ]
  },
  {
   "cell_type": "code",
   "execution_count": null,
   "metadata": {},
   "outputs": [],
   "source": [
    "# Realizar os experimentos com diferentes random_states\n",
    "random_states = [42, 17, 24]\n",
    "k_values = [3, 5]\n",
    "all_results = {}\n",
    "\n",
    "for random_state in random_states:\n",
    "    all_results[random_state] = knn_kfold_cross_val(X, y, k_values, random_state)\n",
    "\n",
    "# Exibir os resultados dos experimentos\n",
    "all_results"
   ]
  },
  {
   "cell_type": "markdown",
   "metadata": {},
   "source": [
    "## Análise dos Resultados\n",
    "Aqui estão os resultados da validação cruzada para diferentes valores de `k` (3 e 5) e `random_state` (42, 17 e 24). A seguir, será feita uma análise da acurácia média e do desvio padrão para cada configuração.\n"
   ]
  },
  {
   "cell_type": "code",
   "execution_count": null,
   "metadata": {},
   "outputs": [],
   "source": [
    "# Organizar os resultados em DataFrame para melhor visualização\n",
    "results_df = pd.DataFrame(columns=['random_state', 'k', 'mean_accuracy', 'std_accuracy'])\n",
    "for random_state, res in all_results.items():\n",
    "    for k, metrics in res.items():\n",
    "        results_df = results_df.append({\n",
    "            'random_state': random_state,\n",
    "            'k': k,\n",
    "            'mean_accuracy': metrics['mean_accuracy'],\n",
    "            'std_accuracy': metrics['std_accuracy']\n",
    "        }, ignore_index=True)\n",
    "\n",
    "results_df"
   ]
  },
  {
   "cell_type": "markdown",
   "metadata": {},
   "source": [
    "### Conclusão\n",
    "Com base nos resultados da validação cruzada, podemos identificar o melhor valor de `k` para cada `random_state`. Caso haja empate nas acurácias médias, registraremos isso na análise. A escolha do melhor `k` deve ser feita considerando a acurácia média mais alta e o desvio padrão mais baixo, indicando um modelo mais robusto."
   ]
  }
 ],
 "metadata": {
  "kernelspec": {
   "display_name": "Python 3",
   "language": "python",
   "name": "python3"
  },
  "language_info": {
   "codemirror_mode": {
    "name": "ipython",
    "version": 3
   },
   "file_extension": ".py",
   "mimetype": "text/x-python",
   "name": "python",
   "nbconvert_exporter": "python",
   "pygments_lexer": "ipython3",
   "version": "3.8.10"
  }
 },
 "nbformat": 4,
 "nbformat_minor": 4
}
