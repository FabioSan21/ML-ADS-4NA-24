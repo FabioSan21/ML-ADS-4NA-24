{
 "cells": [
  {
   "cell_type": "code",
   "execution_count": null,
   "id": "5eda66bb",
   "metadata": {},
   "outputs": [],
   "source": [
    "\n",
    "import pandas as pd\n",
    "\n",
    "# URL do dataset Wine\n",
    "url = 'https://archive.ics.uci.edu/ml/machine-learning-databases/wine/wine.data'\n",
    "\n",
    "# Nome das colunas em português BR\n",
    "column_names_pt_br = [\n",
    "    'classe',\n",
    "    'alcool',\n",
    "    'acido_malico',\n",
    "    'cinzas',\n",
    "    'alcalinidade_de_cinzas',\n",
    "    'magnesio',\n",
    "    'fenois_totais',\n",
    "    'flavanoides',\n",
    "    'fenois_nao_flavanoides',\n",
    "    'proantocianinas',\n",
    "    'intensidade_de_cor',\n",
    "    'matiz',\n",
    "    'od280_od315_de_vinhos_diluidos',\n",
    "    'prolina'\n",
    "]\n",
    "\n",
    "# Ler o arquivo CSV com as colunas especificadas, definindo a coluna 'classe' como object\n",
    "vinhos = pd.read_csv(url, names=column_names_pt_br, dtype={'classe': object})\n"
   ]
  },
  {
   "cell_type": "code",
   "execution_count": null,
   "id": "bde1fef3",
   "metadata": {},
   "outputs": [],
   "source": [
    "\n",
    "from sklearn.preprocessing import MinMaxScaler\n",
    "\n",
    "# Dropar a coluna 'classe'\n",
    "X = vinhos.drop('classe', axis=1)\n",
    "\n",
    "# Reescala linear dos dados\n",
    "scaler = MinMaxScaler()\n",
    "X_scaled = scaler.fit_transform(X)\n"
   ]
  },
  {
   "cell_type": "code",
   "execution_count": null,
   "id": "331cc90d",
   "metadata": {},
   "outputs": [],
   "source": [
    "\n",
    "from sklearn.cluster import KMeans\n",
    "\n",
    "# Aplicar K-Means com 4 clusters\n",
    "kmeans = KMeans(n_clusters=4, random_state=42)\n",
    "vinhos['cluster'] = kmeans.fit_predict(X_scaled)\n",
    "\n",
    "# Apresentar o valor da inércia\n",
    "print(f'Inércia do modelo K-Means: {kmeans.inertia_}')\n"
   ]
  },
  {
   "cell_type": "code",
   "execution_count": null,
   "id": "3a61cfb2",
   "metadata": {},
   "outputs": [],
   "source": [
    "\n",
    "# Distribuição dos clusters\n",
    "cluster_distribution = vinhos['cluster'].value_counts()\n",
    "\n",
    "# Mostrar a distribuição\n",
    "print(cluster_distribution)\n"
   ]
  },
  {
   "cell_type": "code",
   "execution_count": null,
   "id": "1f9425d5",
   "metadata": {},
   "outputs": [],
   "source": [
    "\n",
    "# Comparar a distribuição dos clusters com as classes originais\n",
    "distribuicao_classes_clusters = vinhos.groupby(['classe', 'cluster']).size().unstack(fill_value=0)\n",
    "\n",
    "# Mostrar a distribuição\n",
    "print(distribuicao_classes_clusters)\n"
   ]
  }
 ],
 "metadata": {},
 "nbformat": 4,
 "nbformat_minor": 5
}
