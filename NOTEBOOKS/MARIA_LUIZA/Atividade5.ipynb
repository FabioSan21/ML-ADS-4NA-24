{
 "cells": [
  {
   "cell_type": "markdown",
   "metadata": {},
   "source": [
    "# Exercício Prático: Clustering com K-Means - Vinhos (UCI)"
   ]
  },
  {
   "cell_type": "code",
   "execution_count": null,
   "metadata": {},
   "outputs": [],
   "source": [
    "# Importação das bibliotecas\n",
    "import pandas as pd\n",
    "from sklearn.preprocessing import MinMaxScaler\n",
    "from sklearn.cluster import KMeans"
   ]
  },
  {
   "cell_type": "markdown",
   "metadata": {},
   "source": [
    "## 1. Leitura dos Dados"
   ]
  },
  {
   "cell_type": "code",
   "execution_count": null,
   "metadata": {},
   "outputs": [],
   "source": [
    "# URL do dataset Wine\n",
    "url = 'https://archive.ics.uci.edu/ml/machine-learning-databases/wine/wine.data'\n",
    "\n",
    "# Nome das colunas em português BR\n",
    "column_names_pt_br = [\n",
    "    'classe',\n",
    "    'alcool',\n",
    "    'acido_malico',\n",
    "    'cinzas',\n",
    "    'alcalinidade_de_cinzas',\n",
    "    'magnesio',\n",
    "    'fenois_totais',\n",
    "    'flavanoides',\n",
    "    'fenois_nao_flavanoides',\n",
    "    'proantocianinas',\n",
    "    'intensidade_de_cor',\n",
    "    'matiz',\n",
    "    'od280_od315_de_vinhos_diluidos',\n",
    "    'prolina'\n",
    "]\n",
    "\n",
    "# Ler o arquivo CSV com as colunas especificadas, definindo a coluna 'classe' como object\n",
    "vinhos = pd.read_csv(url, names=column_names_pt_br, dtype={'classe': object})\n",
    "vinhos.head()"
   ]
  },
  {
   "cell_type": "markdown",
   "metadata": {},
   "source": [
    "## 2. Normalização dos Dados"
   ]
  },
  {
   "cell_type": "code",
   "execution_count": null,
   "metadata": {},
   "outputs": [],
   "source": [
    "# Dropar a coluna 'classe'\n",
    "X = vinhos.drop('classe', axis=1)\n",
    "\n",
    "# Reescala linear dos dados\n",
    "scaler = MinMaxScaler()\n",
    "X_scaled = scaler.fit_transform(X)"
   ]
  },
  {
   "cell_type": "markdown",
   "metadata": {},
   "source": [
    "## 3. Aplicação do K-Means"
   ]
  },
  {
   "cell_type": "code",
   "execution_count": null,
   "metadata": {},
   "outputs": [],
   "source": [
    "# Aplicar K-Means com 4 clusters\n",
    "kmeans = KMeans(n_clusters=4, random_state=42)\n",
    "vinhos['cluster'] = kmeans.fit_predict(X_scaled)\n",
    "\n",
    "# Apresentar o valor da inércia\n",
    "print(f'Inércia do modelo K-Means: {kmeans.inertia_}')"
   ]
  },
  {
   "cell_type": "markdown",
   "metadata": {},
   "source": [
    "## 4. Análise dos Clusters"
   ]
  },
  {
   "cell_type": "code",
   "execution_count": null,
   "metadata": {},
   "outputs": [],
   "source": [
    "# Apresentar a contagem dos clusters\n",
    "print(vinhos['cluster'].value_counts())"
   ]
  },
  {
   "cell_type": "markdown",
   "metadata": {},
   "source": [
    "## 5. Comparação com Classes Originais"
   ]
  },
  {
   "cell_type": "code",
   "execution_count": null,
   "metadata": {},
   "outputs": [],
   "source": [
    "# Comparar clusters com as classes originais usando groupby\n",
    "comparacao_groupby = vinhos.groupby('cluster')['classe'].value_counts()\n",
    "print(comparacao_groupby)\n",
    "\n",
    "# Comparar clusters com as classes originais usando crosstab\n",
    "comparacao_crosstab = pd.crosstab(vinhos['classe'], vinhos['cluster'])\n",
    "print(comparacao_crosstab)"
   ]
  }
 ],
 "metadata": {
  "kernelspec": {
   "display_name": "Python 3",
   "language": "python",
   "name": "python3"
  },
  "language_info": {
   "codemirror_mode": {
    "name": "ipython",
    "version": 3
   },
   "file_extension": ".py",
   "mimetype": "text/x-python",
   "name": "python",
   "nbconvert_exporter": "python",
   "pygments_lexer": "ipython3",
   "version": "3.8.10"
  }
 },
 "nbformat": 4,
 "nbformat_minor": 5
}
