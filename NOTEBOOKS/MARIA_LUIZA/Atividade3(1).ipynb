{
 "cells": [
  {
   "cell_type": "markdown",
   "metadata": {},
   "source": [
    "# Exercício Prático - Classificação de Vinhos com KNN\n",
    "Este notebook implementa um classificador KNN para prever classes de vinhos,\n",
    "explorando diferentes valores de $k$ e random_state."
   ]
  },
  {
   "cell_type": "code",
   "execution_count": null,
   "metadata": {},
   "outputs": [],
   "source": [
    "# Importação de bibliotecas necessárias\n",
    "import pandas as pd\n",
    "from sklearn.model_selection import train_test_split\n",
    "from sklearn.neighbors import KNeighborsClassifier\n",
    "from sklearn.metrics import accuracy_score"
   ]
  },
  {
   "cell_type": "code",
   "execution_count": null,
   "metadata": {},
   "outputs": [],
   "source": [
    "# ---\n",
    "# Etapa 1: Carregar o dataset\n",
    "# ---\n",
    "# URL do dataset Wine\n",
    "url = 'https://archive.ics.uci.edu/ml/machine-learning-databases/wine/wine.data'\n",
    "\n",
    "# Nome das colunas\n",
    "column_names_pt_br = [\n",
    "    'classe',\n",
    "    'alcool',\n",
    "    'acido_malico',\n",
    "    'cinzas',\n",
    "    'alcalinidade_de_cinzas',\n",
    "    'magnesio',\n",
    "    'fenois_totais',\n",
    "    'flavanoides',\n",
    "    'fenois_nao_flavanoides',\n",
    "    'proantocianinas',\n",
    "    'intensidade_de_cor',\n",
    "    'matiz',\n",
    "    'od280_od315_de_vinhos_diluidos',\n",
    "    'prolina'\n",
    "]\n",
    "\n",
    "# Ler o arquivo CSV com as colunas especificadas\n",
    "vinhos = pd.read_csv(url, names=column_names_pt_br, dtype={'classe': object})\n",
    "\n",
    "# Exibir uma amostra dos dados\n",
    "vinhos.head()"
   ]
  },
  {
   "cell_type": "code",
   "execution_count": null,
   "metadata": {},
   "outputs": [],
   "source": [
    "# ---\n",
    "# Etapa 2: Separação dos dados em treino e teste\n",
    "# ---\n",
    "# Separar as features (X) e o alvo (y)\n",
    "X = vinhos.drop('classe', axis=1)\n",
    "y = vinhos['classe']\n",
    "\n",
    "# Divisão inicial dos dados (random_state=42)\n",
    "X_train, X_test, y_train, y_test = train_test_split(X, y, test_size=0.3, random_state=42)\n",
    "\n",
    "print(f\"Tamanho do conjunto de treino: {X_train.shape}\")\n",
    "print(f\"Tamanho do conjunto de teste: {X_test.shape}\")"
   ]
  },
  {
   "cell_type": "code",
   "execution_count": null,
   "metadata": {},
   "outputs": [],
   "source": [
    "# ---\n",
    "# Etapa 3: Treinamento e Avaliação do Classificador KNN\n",
    "# ---\n",
    "# Treinar KNN com k=3\n",
    "knn3 = KNeighborsClassifier(n_neighbors=3)\n",
    "knn3.fit(X_train, y_train)\n",
    "y_pred3 = knn3.predict(X_test)\n",
    "accuracy_k3 = accuracy_score(y_test, y_pred3)\n",
    "\n",
    "# Treinar KNN com k=5\n",
    "knn5 = KNeighborsClassifier(n_neighbors=5)\n",
    "knn5.fit(X_train, y_train)\n",
    "y_pred5 = knn5.predict(X_test)\n",
    "accuracy_k5 = accuracy_score(y_test, y_pred5)\n",
    "\n",
    "print(f\"Acurácia com k=3 (random_state=42): {accuracy_k3:.2f}\")\n",
    "print(f\"Acurácia com k=5 (random_state=42): {accuracy_k5:.2f}\")"
   ]
  },
  {
   "cell_type": "code",
   "execution_count": null,
   "metadata": {},
   "outputs": [],
   "source": [
    "# ---\n",
    "# Etapa 4: Análise com diferentes random_state\n",
    "# ---\n",
    "random_states = [17, 24]\n",
    "results = []\n",
    "\n",
    "for random_state in random_states:\n",
    "    # Divisão dos dados\n",
    "    X_train, X_test, y_train, y_test = train_test_split(X, y, test_size=0.3, random_state=random_state)\n",
    "    \n",
    "    # Modelo com k=3\n",
    "    knn3 = KNeighborsClassifier(n_neighbors=3)\n",
    "    knn3.fit(X_train, y_train)\n",
    "    accuracy_k3 = accuracy_score(y_test, knn3.predict(X_test))\n",
    "    \n",
    "    # Modelo com k=5\n",
    "    knn5 = KNeighborsClassifier(n_neighbors=5)\n",
    "    knn5.fit(X_train, y_train)\n",
    "    accuracy_k5 = accuracy_score(y_test, knn5.predict(X_test))\n",
    "    \n",
    "    # Salvar os resultados\n",
    "    results.append({\n",
    "        'random_state': random_state,\n",
    "        'accuracy_k3': accuracy_k3,\n",
    "        'accuracy_k5': accuracy_k5\n",
    "    })\n",
    "\n",
    "# Converter resultados para DataFrame\n",
    "df_results = pd.DataFrame(results)\n",
    "\n",
    "# Exibir resultados comparativos\n",
    "df_results"
   ]
  }
 ],
 "metadata": {
  "kernelspec": {
   "display_name": "Python 3",
   "language": "python",
   "name": "python3"
  },
  "language_info": {
   "codemirror_mode": {
    "name": "ipython",
    "version": 3
   },
   "file_extension": ".py",
   "mimetype": "text/x-python",
   "name": "python",
   "nbconvert_exporter": "python",
   "pygments_lexer": "ipython3",
   "version": "3.8.10"
  }
 },
 "nbformat": 4,
 "nbformat_minor": 4
}
